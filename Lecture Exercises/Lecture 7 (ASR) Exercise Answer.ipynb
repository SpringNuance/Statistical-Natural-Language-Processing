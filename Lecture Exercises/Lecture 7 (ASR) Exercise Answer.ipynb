{
 "cells": [
  {
   "cell_type": "code",
   "execution_count": 2,
   "metadata": {},
   "outputs": [
    {
     "name": "stdout",
     "output_type": "stream",
     "text": [
      "0.375\n",
      "0.16279069767441862\n",
      "0.375\n",
      "0.06976744186046512\n"
     ]
    }
   ],
   "source": [
    "import jiwer\n",
    "\n",
    "human_transcript = \"he then appeared on an episode of smackdown\"\n",
    "asr_hyp_1 = \"he then appeared in the episode smackdown\"\n",
    "asr_hyp_2 = \"he than appeared on a episode off smackdown\"\n",
    "\n",
    "# Calculate WER and CER\n",
    "wer_1 = jiwer.wer(human_transcript, asr_hyp_1)\n",
    "cer_1 = jiwer.cer(human_transcript, asr_hyp_1)\n",
    "wer_2 = jiwer.wer(human_transcript, asr_hyp_2)\n",
    "cer_2 = jiwer.cer(human_transcript, asr_hyp_2)\n",
    "\n",
    "print(wer_1)\n",
    "print(cer_1)\n",
    "print(wer_2)\n",
    "print(cer_2)\n"
   ]
  }
 ],
 "metadata": {
  "kernelspec": {
   "display_name": "Python 3",
   "language": "python",
   "name": "python3"
  },
  "language_info": {
   "codemirror_mode": {
    "name": "ipython",
    "version": 3
   },
   "file_extension": ".py",
   "mimetype": "text/x-python",
   "name": "python",
   "nbconvert_exporter": "python",
   "pygments_lexer": "ipython3",
   "version": "3.12.2"
  }
 },
 "nbformat": 4,
 "nbformat_minor": 2
}
